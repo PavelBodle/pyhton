{
  "nbformat": 4,
  "nbformat_minor": 0,
  "metadata": {
    "colab": {
      "name": "Pavel_193310024_CASHe.ipynb",
      "provenance": [],
      "collapsed_sections": [],
      "toc_visible": true
    },
    "kernelspec": {
      "name": "python3",
      "display_name": "Python 3"
    },
    "accelerator": "GPU"
  },
  "cells": [
    {
      "cell_type": "code",
      "metadata": {
        "id": "Z8H8iotF8_SY"
      },
      "source": [
        "\n",
        "import numpy as np\n",
        "import pandas as pd\n",
        "import matplotlib.pyplot as plt\n",
        "import seaborn as sns\n",
        "sns.set()"
      ],
      "execution_count": 2,
      "outputs": []
    },
    {
      "cell_type": "code",
      "metadata": {
        "id": "F316WfcnTaLS"
      },
      "source": [
        "url1 = 'https://raw.githubusercontent.com/PavelBodle/pyhton/main/iitb%20test/user_EMIs.csv'\r\n",
        "df1 = pd.read_csv(url1) \r\n",
        "\r\n",
        "url2 = 'https://raw.githubusercontent.com/PavelBodle/pyhton/main/iitb%20test/user_company.csv'\r\n",
        "df2 = pd.read_csv(url2) \r\n",
        "\r\n",
        "url3 = 'https://raw.githubusercontent.com/PavelBodle/pyhton/main/iitb%20test/user_data.csv'\r\n",
        "df3 = pd.read_csv(url3) \r\n",
        "\r\n",
        "url4 = 'https://raw.githubusercontent.com/PavelBodle/pyhton/main/iitb%20test/user_loan.csv'\r\n",
        "df4 = pd.read_csv(url4) \r\n",
        "\r\n",
        "url5 = 'https://raw.githubusercontent.com/PavelBodle/pyhton/main/iitb%20test/user_repayments.csv'\r\n",
        "df5 = pd.read_csv(url5) \r\n",
        "\r\n",
        "url6 = 'https://raw.githubusercontent.com/PavelBodle/pyhton/main/iitb%20test/user_salary.csv'\r\n",
        "df6 = pd.read_csv(url6) "
      ],
      "execution_count": 3,
      "outputs": []
    },
    {
      "cell_type": "code",
      "metadata": {
        "colab": {
          "base_uri": "https://localhost:8080/"
        },
        "id": "kUWg9O_tC3cr",
        "outputId": "a2cf4a86-5423-4c19-d4b2-8e7572b93cd9"
      },
      "source": [
        "print(df1.shape)\n",
        "print(df2.shape)\n",
        "print(df3.shape)\n",
        "print(df4.shape)\n",
        "print(df5.shape)\n",
        "print(df6.shape)"
      ],
      "execution_count": 4,
      "outputs": [
        {
          "output_type": "stream",
          "text": [
            "(13237, 16)\n",
            "(12854, 3)\n",
            "(20000, 23)\n",
            "(14692, 26)\n",
            "(21079, 9)\n",
            "(20000, 3)\n"
          ],
          "name": "stdout"
        }
      ]
    },
    {
      "cell_type": "code",
      "metadata": {
        "colab": {
          "base_uri": "https://localhost:8080/",
          "height": 316
        },
        "id": "Nuxfa9Sv-M0b",
        "outputId": "08e83603-bd1f-4526-ab9e-e8d38540a66b"
      },
      "source": [
        "df1.head()"
      ],
      "execution_count": 5,
      "outputs": [
        {
          "output_type": "execute_result",
          "data": {
            "text/html": [
              "<div>\n",
              "<style scoped>\n",
              "    .dataframe tbody tr th:only-of-type {\n",
              "        vertical-align: middle;\n",
              "    }\n",
              "\n",
              "    .dataframe tbody tr th {\n",
              "        vertical-align: top;\n",
              "    }\n",
              "\n",
              "    .dataframe thead th {\n",
              "        text-align: right;\n",
              "    }\n",
              "</style>\n",
              "<table border=\"1\" class=\"dataframe\">\n",
              "  <thead>\n",
              "    <tr style=\"text-align: right;\">\n",
              "      <th></th>\n",
              "      <th>Unnamed: 0</th>\n",
              "      <th>loan_installements_id</th>\n",
              "      <th>installment_number</th>\n",
              "      <th>loan_request_id</th>\n",
              "      <th>installment_amount</th>\n",
              "      <th>due_amount</th>\n",
              "      <th>penalty_accumulated</th>\n",
              "      <th>installment_due_date</th>\n",
              "      <th>penalty_paid</th>\n",
              "      <th>last_payment_date</th>\n",
              "      <th>created_date.x</th>\n",
              "      <th>updated_date</th>\n",
              "      <th>updated_by</th>\n",
              "      <th>extension_due_date</th>\n",
              "      <th>penalty_calculation_date</th>\n",
              "      <th>created_date.y</th>\n",
              "    </tr>\n",
              "  </thead>\n",
              "  <tbody>\n",
              "    <tr>\n",
              "      <th>0</th>\n",
              "      <td>1</td>\n",
              "      <td>1.0</td>\n",
              "      <td>2</td>\n",
              "      <td>3213</td>\n",
              "      <td>6666</td>\n",
              "      <td>0</td>\n",
              "      <td>0</td>\n",
              "      <td>2016-10-24 12:00:01</td>\n",
              "      <td>0</td>\n",
              "      <td>2016-08-29 00:00:00</td>\n",
              "      <td>2016-08-25 09:54:23</td>\n",
              "      <td>2016-08-29 03:36:29</td>\n",
              "      <td>3</td>\n",
              "      <td>2016-10-31 12:00:01</td>\n",
              "      <td>NaN</td>\n",
              "      <td>2016-08-25 09:54:23</td>\n",
              "    </tr>\n",
              "    <tr>\n",
              "      <th>1</th>\n",
              "      <td>2</td>\n",
              "      <td>2.0</td>\n",
              "      <td>3</td>\n",
              "      <td>3213</td>\n",
              "      <td>6668</td>\n",
              "      <td>0</td>\n",
              "      <td>0</td>\n",
              "      <td>2016-11-23 12:00:01</td>\n",
              "      <td>0</td>\n",
              "      <td>2016-08-29 00:00:00</td>\n",
              "      <td>2016-08-25 09:54:23</td>\n",
              "      <td>2016-08-29 03:36:29</td>\n",
              "      <td>3</td>\n",
              "      <td>2016-11-30 12:00:01</td>\n",
              "      <td>NaN</td>\n",
              "      <td>2016-08-25 09:54:23</td>\n",
              "    </tr>\n",
              "    <tr>\n",
              "      <th>2</th>\n",
              "      <td>3</td>\n",
              "      <td>3.0</td>\n",
              "      <td>1</td>\n",
              "      <td>3213</td>\n",
              "      <td>6666</td>\n",
              "      <td>0</td>\n",
              "      <td>0</td>\n",
              "      <td>2016-09-24 12:00:01</td>\n",
              "      <td>0</td>\n",
              "      <td>2016-08-29 00:00:00</td>\n",
              "      <td>2016-08-25 09:54:23</td>\n",
              "      <td>2016-08-29 03:36:29</td>\n",
              "      <td>3</td>\n",
              "      <td>2016-10-01 12:00:01</td>\n",
              "      <td>NaN</td>\n",
              "      <td>2016-08-25 09:54:23</td>\n",
              "    </tr>\n",
              "    <tr>\n",
              "      <th>3</th>\n",
              "      <td>4</td>\n",
              "      <td>4.0</td>\n",
              "      <td>3</td>\n",
              "      <td>3395</td>\n",
              "      <td>11668</td>\n",
              "      <td>0</td>\n",
              "      <td>0</td>\n",
              "      <td>2016-11-29 12:00:00</td>\n",
              "      <td>0</td>\n",
              "      <td>2016-11-01 00:00:00</td>\n",
              "      <td>2016-08-31 07:18:23</td>\n",
              "      <td>2016-11-01 07:36:35</td>\n",
              "      <td>3</td>\n",
              "      <td>2016-12-06 12:00:00</td>\n",
              "      <td>NaN</td>\n",
              "      <td>2016-08-31 07:18:23</td>\n",
              "    </tr>\n",
              "    <tr>\n",
              "      <th>4</th>\n",
              "      <td>5</td>\n",
              "      <td>5.0</td>\n",
              "      <td>2</td>\n",
              "      <td>3395</td>\n",
              "      <td>11666</td>\n",
              "      <td>0</td>\n",
              "      <td>0</td>\n",
              "      <td>2016-10-30 12:00:00</td>\n",
              "      <td>0</td>\n",
              "      <td>2016-10-29 00:00:00</td>\n",
              "      <td>2016-08-31 07:18:23</td>\n",
              "      <td>2016-10-29 08:36:33</td>\n",
              "      <td>3</td>\n",
              "      <td>2016-11-06 12:00:00</td>\n",
              "      <td>NaN</td>\n",
              "      <td>2016-08-31 07:18:23</td>\n",
              "    </tr>\n",
              "  </tbody>\n",
              "</table>\n",
              "</div>"
            ],
            "text/plain": [
              "   Unnamed: 0  ...       created_date.y\n",
              "0           1  ...  2016-08-25 09:54:23\n",
              "1           2  ...  2016-08-25 09:54:23\n",
              "2           3  ...  2016-08-25 09:54:23\n",
              "3           4  ...  2016-08-31 07:18:23\n",
              "4           5  ...  2016-08-31 07:18:23\n",
              "\n",
              "[5 rows x 16 columns]"
            ]
          },
          "metadata": {
            "tags": []
          },
          "execution_count": 5
        }
      ]
    },
    {
      "cell_type": "code",
      "metadata": {
        "colab": {
          "base_uri": "https://localhost:8080/",
          "height": 195
        },
        "id": "4Zm_2-zRDqrF",
        "outputId": "29220320-ef3a-45bb-8cd9-721541756c0f"
      },
      "source": [
        "df2.head()"
      ],
      "execution_count": 6,
      "outputs": [
        {
          "output_type": "execute_result",
          "data": {
            "text/html": [
              "<div>\n",
              "<style scoped>\n",
              "    .dataframe tbody tr th:only-of-type {\n",
              "        vertical-align: middle;\n",
              "    }\n",
              "\n",
              "    .dataframe tbody tr th {\n",
              "        vertical-align: top;\n",
              "    }\n",
              "\n",
              "    .dataframe thead th {\n",
              "        text-align: right;\n",
              "    }\n",
              "</style>\n",
              "<table border=\"1\" class=\"dataframe\">\n",
              "  <thead>\n",
              "    <tr style=\"text-align: right;\">\n",
              "      <th></th>\n",
              "      <th>Unnamed: 0</th>\n",
              "      <th>customer_id</th>\n",
              "      <th>company_id</th>\n",
              "    </tr>\n",
              "  </thead>\n",
              "  <tbody>\n",
              "    <tr>\n",
              "      <th>0</th>\n",
              "      <td>1</td>\n",
              "      <td>144</td>\n",
              "      <td>14766</td>\n",
              "    </tr>\n",
              "    <tr>\n",
              "      <th>1</th>\n",
              "      <td>2</td>\n",
              "      <td>150</td>\n",
              "      <td>14764</td>\n",
              "    </tr>\n",
              "    <tr>\n",
              "      <th>2</th>\n",
              "      <td>3</td>\n",
              "      <td>155</td>\n",
              "      <td>14765</td>\n",
              "    </tr>\n",
              "    <tr>\n",
              "      <th>3</th>\n",
              "      <td>4</td>\n",
              "      <td>162</td>\n",
              "      <td>14767</td>\n",
              "    </tr>\n",
              "    <tr>\n",
              "      <th>4</th>\n",
              "      <td>5</td>\n",
              "      <td>163</td>\n",
              "      <td>14764</td>\n",
              "    </tr>\n",
              "  </tbody>\n",
              "</table>\n",
              "</div>"
            ],
            "text/plain": [
              "   Unnamed: 0  customer_id  company_id\n",
              "0           1          144       14766\n",
              "1           2          150       14764\n",
              "2           3          155       14765\n",
              "3           4          162       14767\n",
              "4           5          163       14764"
            ]
          },
          "metadata": {
            "tags": []
          },
          "execution_count": 6
        }
      ]
    },
    {
      "cell_type": "code",
      "metadata": {
        "colab": {
          "base_uri": "https://localhost:8080/",
          "height": 400
        },
        "id": "TqhuZjl7DrXm",
        "outputId": "1315ca4b-ac33-4876-a9ae-a456e6c178cf"
      },
      "source": [
        "df3.head()"
      ],
      "execution_count": 7,
      "outputs": [
        {
          "output_type": "execute_result",
          "data": {
            "text/html": [
              "<div>\n",
              "<style scoped>\n",
              "    .dataframe tbody tr th:only-of-type {\n",
              "        vertical-align: middle;\n",
              "    }\n",
              "\n",
              "    .dataframe tbody tr th {\n",
              "        vertical-align: top;\n",
              "    }\n",
              "\n",
              "    .dataframe thead th {\n",
              "        text-align: right;\n",
              "    }\n",
              "</style>\n",
              "<table border=\"1\" class=\"dataframe\">\n",
              "  <thead>\n",
              "    <tr style=\"text-align: right;\">\n",
              "      <th></th>\n",
              "      <th>Unnamed: 0</th>\n",
              "      <th>id</th>\n",
              "      <th>customer_id</th>\n",
              "      <th>device_name</th>\n",
              "      <th>imei</th>\n",
              "      <th>install_type</th>\n",
              "      <th>latitude</th>\n",
              "      <th>longitude</th>\n",
              "      <th>list_of_apps</th>\n",
              "      <th>login_time</th>\n",
              "      <th>no_of_social_friends</th>\n",
              "      <th>number_of_apps</th>\n",
              "      <th>number_of_call_log</th>\n",
              "      <th>number_of_contacts</th>\n",
              "      <th>number_of_sms</th>\n",
              "      <th>os</th>\n",
              "      <th>os_version</th>\n",
              "      <th>sim_serial_number</th>\n",
              "      <th>subscriber_id</th>\n",
              "      <th>app_version</th>\n",
              "      <th>operator_name</th>\n",
              "      <th>created_date</th>\n",
              "      <th>updated_date</th>\n",
              "    </tr>\n",
              "  </thead>\n",
              "  <tbody>\n",
              "    <tr>\n",
              "      <th>0</th>\n",
              "      <td>1</td>\n",
              "      <td>1</td>\n",
              "      <td>144</td>\n",
              "      <td>YU YU5010A</td>\n",
              "      <td>911476054998984</td>\n",
              "      <td>NaN</td>\n",
              "      <td>19.019850</td>\n",
              "      <td>72.854923</td>\n",
              "      <td>SwiftKey Keyboard,WhatsApp,Uber Partner,OlaCab...</td>\n",
              "      <td>Sep 02, 2016, 06:04 PM</td>\n",
              "      <td>401.0</td>\n",
              "      <td>19.0</td>\n",
              "      <td>500.0</td>\n",
              "      <td>358.0</td>\n",
              "      <td>472.0</td>\n",
              "      <td>NaN</td>\n",
              "      <td>NaN</td>\n",
              "      <td>8991200050006910710f</td>\n",
              "      <td>404205000691071</td>\n",
              "      <td>5.2</td>\n",
              "      <td>Vodafone</td>\n",
              "      <td>NaN</td>\n",
              "      <td>NaN</td>\n",
              "    </tr>\n",
              "    <tr>\n",
              "      <th>1</th>\n",
              "      <td>2</td>\n",
              "      <td>2</td>\n",
              "      <td>150</td>\n",
              "      <td>unknown D189-L29</td>\n",
              "      <td>862940030387371</td>\n",
              "      <td>Organic</td>\n",
              "      <td>19.109128</td>\n",
              "      <td>72.883849</td>\n",
              "      <td>YouTube,WhatsApp,PaySense,Instagram,MX Player,...</td>\n",
              "      <td>Mar 23, 2018, 03:58 PM</td>\n",
              "      <td>1051.0</td>\n",
              "      <td>14.0</td>\n",
              "      <td>26.0</td>\n",
              "      <td>3144.0</td>\n",
              "      <td>6.0</td>\n",
              "      <td>Android</td>\n",
              "      <td>7</td>\n",
              "      <td>8991921799970143397F</td>\n",
              "      <td>404929997014339</td>\n",
              "      <td>7.7.0</td>\n",
              "      <td>airtel</td>\n",
              "      <td>NaN</td>\n",
              "      <td>2018-03-23 10:28:51</td>\n",
              "    </tr>\n",
              "    <tr>\n",
              "      <th>2</th>\n",
              "      <td>3</td>\n",
              "      <td>3</td>\n",
              "      <td>155</td>\n",
              "      <td>samsung SM-G7102</td>\n",
              "      <td>352116066191121</td>\n",
              "      <td>NaN</td>\n",
              "      <td>0.000000</td>\n",
              "      <td>0.000000</td>\n",
              "      <td>Call Recorder,Naukri.com,SBI Card,LinkedIn,App...</td>\n",
              "      <td>Jan 12, 2017, 02:08 AM</td>\n",
              "      <td>490.0</td>\n",
              "      <td>20.0</td>\n",
              "      <td>0.0</td>\n",
              "      <td>424.0</td>\n",
              "      <td>-1.0</td>\n",
              "      <td>Android</td>\n",
              "      <td>4.4.2</td>\n",
              "      <td>8.99179991113715E+019</td>\n",
              "      <td>405799007152654</td>\n",
              "      <td>7.3.1</td>\n",
              "      <td>!dea</td>\n",
              "      <td>NaN</td>\n",
              "      <td>NaN</td>\n",
              "    </tr>\n",
              "    <tr>\n",
              "      <th>3</th>\n",
              "      <td>4</td>\n",
              "      <td>4</td>\n",
              "      <td>162</td>\n",
              "      <td>OPPO CPH1723</td>\n",
              "      <td>866558036422673</td>\n",
              "      <td>Organic</td>\n",
              "      <td>19.018519</td>\n",
              "      <td>72.827542</td>\n",
              "      <td>JioCinema,JioTV,JioMusic,Truecaller,Temple Run...</td>\n",
              "      <td>Dec 18, 2017, 05:30 pm</td>\n",
              "      <td>485.0</td>\n",
              "      <td>58.0</td>\n",
              "      <td>7.0</td>\n",
              "      <td>558.0</td>\n",
              "      <td>4.0</td>\n",
              "      <td>Android</td>\n",
              "      <td>7.1.1</td>\n",
              "      <td>8.99187404000403E+019</td>\n",
              "      <td>405874004506316</td>\n",
              "      <td>7.5.9</td>\n",
              "      <td>Jio 4G</td>\n",
              "      <td>NaN</td>\n",
              "      <td>2017-12-18 12:00:59</td>\n",
              "    </tr>\n",
              "    <tr>\n",
              "      <th>4</th>\n",
              "      <td>5</td>\n",
              "      <td>5</td>\n",
              "      <td>163</td>\n",
              "      <td>Sony ST21i2</td>\n",
              "      <td>353811054182657</td>\n",
              "      <td>NaN</td>\n",
              "      <td>NaN</td>\n",
              "      <td>NaN</td>\n",
              "      <td>NaN</td>\n",
              "      <td>Jun 30, 2016, 09:21 PM</td>\n",
              "      <td>234.0</td>\n",
              "      <td>NaN</td>\n",
              "      <td>-1.0</td>\n",
              "      <td>461.0</td>\n",
              "      <td>134.0</td>\n",
              "      <td>NaN</td>\n",
              "      <td>NaN</td>\n",
              "      <td>8.99180509101985E+019</td>\n",
              "      <td>405805191853236</td>\n",
              "      <td>3.4</td>\n",
              "      <td>NaN</td>\n",
              "      <td>NaN</td>\n",
              "      <td>NaN</td>\n",
              "    </tr>\n",
              "  </tbody>\n",
              "</table>\n",
              "</div>"
            ],
            "text/plain": [
              "   Unnamed: 0  id  customer_id  ... operator_name created_date         updated_date\n",
              "0           1   1          144  ...      Vodafone          NaN                  NaN\n",
              "1           2   2          150  ...        airtel          NaN  2018-03-23 10:28:51\n",
              "2           3   3          155  ...          !dea          NaN                  NaN\n",
              "3           4   4          162  ...        Jio 4G          NaN  2017-12-18 12:00:59\n",
              "4           5   5          163  ...           NaN          NaN                  NaN\n",
              "\n",
              "[5 rows x 23 columns]"
            ]
          },
          "metadata": {
            "tags": []
          },
          "execution_count": 7
        }
      ]
    },
    {
      "cell_type": "code",
      "metadata": {
        "colab": {
          "base_uri": "https://localhost:8080/",
          "height": 400
        },
        "id": "tCKr5NWEDr92",
        "outputId": "c2446cdd-ccad-4458-9cc5-f97884bdea7d"
      },
      "source": [
        "df4.head()"
      ],
      "execution_count": 8,
      "outputs": [
        {
          "output_type": "execute_result",
          "data": {
            "text/html": [
              "<div>\n",
              "<style scoped>\n",
              "    .dataframe tbody tr th:only-of-type {\n",
              "        vertical-align: middle;\n",
              "    }\n",
              "\n",
              "    .dataframe tbody tr th {\n",
              "        vertical-align: top;\n",
              "    }\n",
              "\n",
              "    .dataframe thead th {\n",
              "        text-align: right;\n",
              "    }\n",
              "</style>\n",
              "<table border=\"1\" class=\"dataframe\">\n",
              "  <thead>\n",
              "    <tr style=\"text-align: right;\">\n",
              "      <th></th>\n",
              "      <th>Unnamed: 0</th>\n",
              "      <th>loan_request_id</th>\n",
              "      <th>customer_id</th>\n",
              "      <th>loan_amount</th>\n",
              "      <th>interest_rate</th>\n",
              "      <th>service_charge</th>\n",
              "      <th>promo_discount_amount</th>\n",
              "      <th>promo_component</th>\n",
              "      <th>total_due_amount</th>\n",
              "      <th>bank_account_detail_id</th>\n",
              "      <th>created_date</th>\n",
              "      <th>loan_transferred_date</th>\n",
              "      <th>due_date</th>\n",
              "      <th>updated_date</th>\n",
              "      <th>loan_status_id</th>\n",
              "      <th>updated_by</th>\n",
              "      <th>bank_transaction_id</th>\n",
              "      <th>retry_count</th>\n",
              "      <th>loan_request_initial_id</th>\n",
              "      <th>promo_code</th>\n",
              "      <th>service_charge_configuration_id</th>\n",
              "      <th>purpose_id</th>\n",
              "      <th>nbfc_code</th>\n",
              "      <th>nbfc_id</th>\n",
              "      <th>repeat_processing_fee</th>\n",
              "      <th>gst_charge</th>\n",
              "    </tr>\n",
              "  </thead>\n",
              "  <tbody>\n",
              "    <tr>\n",
              "      <th>0</th>\n",
              "      <td>1</td>\n",
              "      <td>15</td>\n",
              "      <td>341</td>\n",
              "      <td>5000.0</td>\n",
              "      <td>1.5</td>\n",
              "      <td>0</td>\n",
              "      <td>0.0</td>\n",
              "      <td>NaN</td>\n",
              "      <td>0.0</td>\n",
              "      <td>36</td>\n",
              "      <td>2016-02-26 11:11:44</td>\n",
              "      <td>2016-03-10 10:00:21</td>\n",
              "      <td>2016-03-25 10:00:21</td>\n",
              "      <td>2016-03-17 10:40:20</td>\n",
              "      <td>6</td>\n",
              "      <td>3</td>\n",
              "      <td>NaN</td>\n",
              "      <td>0.0</td>\n",
              "      <td>NaN</td>\n",
              "      <td>NaN</td>\n",
              "      <td>1.0</td>\n",
              "      <td>NaN</td>\n",
              "      <td>ONECAP</td>\n",
              "      <td>1</td>\n",
              "      <td>NaN</td>\n",
              "      <td>0</td>\n",
              "    </tr>\n",
              "    <tr>\n",
              "      <th>1</th>\n",
              "      <td>2</td>\n",
              "      <td>16</td>\n",
              "      <td>320</td>\n",
              "      <td>30000.0</td>\n",
              "      <td>1.5</td>\n",
              "      <td>0</td>\n",
              "      <td>0.0</td>\n",
              "      <td>NaN</td>\n",
              "      <td>0.0</td>\n",
              "      <td>37</td>\n",
              "      <td>2016-02-26 11:12:13</td>\n",
              "      <td>2016-02-26 11:30:21</td>\n",
              "      <td>2016-03-13 16:42:13</td>\n",
              "      <td>2017-10-28 08:56:15</td>\n",
              "      <td>6</td>\n",
              "      <td>1</td>\n",
              "      <td>NaN</td>\n",
              "      <td>0.0</td>\n",
              "      <td>NaN</td>\n",
              "      <td>NaN</td>\n",
              "      <td>1.0</td>\n",
              "      <td>NaN</td>\n",
              "      <td>ONECAP</td>\n",
              "      <td>1</td>\n",
              "      <td>NaN</td>\n",
              "      <td>0</td>\n",
              "    </tr>\n",
              "    <tr>\n",
              "      <th>2</th>\n",
              "      <td>3</td>\n",
              "      <td>17</td>\n",
              "      <td>341</td>\n",
              "      <td>5000.0</td>\n",
              "      <td>1.5</td>\n",
              "      <td>0</td>\n",
              "      <td>0.0</td>\n",
              "      <td>NaN</td>\n",
              "      <td>0.0</td>\n",
              "      <td>36</td>\n",
              "      <td>2016-02-26 11:23:43</td>\n",
              "      <td>2016-03-10 10:00:21</td>\n",
              "      <td>2016-03-25 10:00:21</td>\n",
              "      <td>2016-03-17 10:40:20</td>\n",
              "      <td>6</td>\n",
              "      <td>3</td>\n",
              "      <td>NaN</td>\n",
              "      <td>0.0</td>\n",
              "      <td>NaN</td>\n",
              "      <td>NaN</td>\n",
              "      <td>1.0</td>\n",
              "      <td>NaN</td>\n",
              "      <td>ONECAP</td>\n",
              "      <td>1</td>\n",
              "      <td>NaN</td>\n",
              "      <td>0</td>\n",
              "    </tr>\n",
              "    <tr>\n",
              "      <th>3</th>\n",
              "      <td>4</td>\n",
              "      <td>18</td>\n",
              "      <td>301</td>\n",
              "      <td>10000.0</td>\n",
              "      <td>1.5</td>\n",
              "      <td>0</td>\n",
              "      <td>0.0</td>\n",
              "      <td>NaN</td>\n",
              "      <td>0.0</td>\n",
              "      <td>46</td>\n",
              "      <td>2016-02-27 08:33:38</td>\n",
              "      <td>2016-02-28 08:33:38</td>\n",
              "      <td>2016-03-16 14:03:38</td>\n",
              "      <td>2017-11-13 07:32:48</td>\n",
              "      <td>6</td>\n",
              "      <td>1</td>\n",
              "      <td>NaN</td>\n",
              "      <td>0.0</td>\n",
              "      <td>NaN</td>\n",
              "      <td>NaN</td>\n",
              "      <td>1.0</td>\n",
              "      <td>NaN</td>\n",
              "      <td>ONECAP</td>\n",
              "      <td>1</td>\n",
              "      <td>NaN</td>\n",
              "      <td>0</td>\n",
              "    </tr>\n",
              "    <tr>\n",
              "      <th>4</th>\n",
              "      <td>5</td>\n",
              "      <td>19</td>\n",
              "      <td>302</td>\n",
              "      <td>20000.0</td>\n",
              "      <td>1.5</td>\n",
              "      <td>0</td>\n",
              "      <td>0.0</td>\n",
              "      <td>NaN</td>\n",
              "      <td>0.0</td>\n",
              "      <td>54</td>\n",
              "      <td>2016-02-29 05:59:23</td>\n",
              "      <td>2016-02-29 06:18:13</td>\n",
              "      <td>2016-03-15 11:29:23</td>\n",
              "      <td>2016-03-31 15:36:21</td>\n",
              "      <td>6</td>\n",
              "      <td>3</td>\n",
              "      <td>606011286204</td>\n",
              "      <td>0.0</td>\n",
              "      <td>NaN</td>\n",
              "      <td>NaN</td>\n",
              "      <td>1.0</td>\n",
              "      <td>NaN</td>\n",
              "      <td>ONECAP</td>\n",
              "      <td>1</td>\n",
              "      <td>NaN</td>\n",
              "      <td>0</td>\n",
              "    </tr>\n",
              "  </tbody>\n",
              "</table>\n",
              "</div>"
            ],
            "text/plain": [
              "   Unnamed: 0  loan_request_id  ...  repeat_processing_fee  gst_charge\n",
              "0           1               15  ...                    NaN           0\n",
              "1           2               16  ...                    NaN           0\n",
              "2           3               17  ...                    NaN           0\n",
              "3           4               18  ...                    NaN           0\n",
              "4           5               19  ...                    NaN           0\n",
              "\n",
              "[5 rows x 26 columns]"
            ]
          },
          "metadata": {
            "tags": []
          },
          "execution_count": 8
        }
      ]
    },
    {
      "cell_type": "code",
      "metadata": {
        "colab": {
          "base_uri": "https://localhost:8080/",
          "height": 316
        },
        "id": "KYLW2HUiDsp9",
        "outputId": "5d2c456d-533e-4368-f271-0033ac75e6de"
      },
      "source": [
        "df5.head()"
      ],
      "execution_count": 9,
      "outputs": [
        {
          "output_type": "execute_result",
          "data": {
            "text/html": [
              "<div>\n",
              "<style scoped>\n",
              "    .dataframe tbody tr th:only-of-type {\n",
              "        vertical-align: middle;\n",
              "    }\n",
              "\n",
              "    .dataframe tbody tr th {\n",
              "        vertical-align: top;\n",
              "    }\n",
              "\n",
              "    .dataframe thead th {\n",
              "        text-align: right;\n",
              "    }\n",
              "</style>\n",
              "<table border=\"1\" class=\"dataframe\">\n",
              "  <thead>\n",
              "    <tr style=\"text-align: right;\">\n",
              "      <th></th>\n",
              "      <th>Unnamed: 0</th>\n",
              "      <th>customer_id</th>\n",
              "      <th>loan_request_id</th>\n",
              "      <th>principle_amount_paid</th>\n",
              "      <th>penalty_paid</th>\n",
              "      <th>bank_electronic_repayments_id</th>\n",
              "      <th>bank_electonic_payment_id</th>\n",
              "      <th>amount</th>\n",
              "      <th>credit_date</th>\n",
              "    </tr>\n",
              "  </thead>\n",
              "  <tbody>\n",
              "    <tr>\n",
              "      <th>0</th>\n",
              "      <td>1</td>\n",
              "      <td>144</td>\n",
              "      <td>199</td>\n",
              "      <td>15000.0</td>\n",
              "      <td>0</td>\n",
              "      <td>140</td>\n",
              "      <td>140</td>\n",
              "      <td>15000.0</td>\n",
              "      <td>2016-05-04 00:00:00</td>\n",
              "    </tr>\n",
              "    <tr>\n",
              "      <th>1</th>\n",
              "      <td>2</td>\n",
              "      <td>144</td>\n",
              "      <td>417</td>\n",
              "      <td>15000.0</td>\n",
              "      <td>510</td>\n",
              "      <td>537</td>\n",
              "      <td>537</td>\n",
              "      <td>15510.0</td>\n",
              "      <td>2016-06-02 00:00:00</td>\n",
              "    </tr>\n",
              "    <tr>\n",
              "      <th>2</th>\n",
              "      <td>3</td>\n",
              "      <td>144</td>\n",
              "      <td>1039</td>\n",
              "      <td>15000.0</td>\n",
              "      <td>510</td>\n",
              "      <td>1051</td>\n",
              "      <td>1051</td>\n",
              "      <td>15510.0</td>\n",
              "      <td>2016-06-30 00:00:00</td>\n",
              "    </tr>\n",
              "    <tr>\n",
              "      <th>3</th>\n",
              "      <td>4</td>\n",
              "      <td>144</td>\n",
              "      <td>1658</td>\n",
              "      <td>3490.0</td>\n",
              "      <td>510</td>\n",
              "      <td>2753</td>\n",
              "      <td>2753</td>\n",
              "      <td>4000.0</td>\n",
              "      <td>2016-08-31 00:00:00</td>\n",
              "    </tr>\n",
              "    <tr>\n",
              "      <th>4</th>\n",
              "      <td>5</td>\n",
              "      <td>150</td>\n",
              "      <td>66</td>\n",
              "      <td>5000.0</td>\n",
              "      <td>0</td>\n",
              "      <td>29</td>\n",
              "      <td>29</td>\n",
              "      <td>5000.0</td>\n",
              "      <td>2016-04-02 00:00:00</td>\n",
              "    </tr>\n",
              "  </tbody>\n",
              "</table>\n",
              "</div>"
            ],
            "text/plain": [
              "   Unnamed: 0  customer_id  ...   amount          credit_date\n",
              "0           1          144  ...  15000.0  2016-05-04 00:00:00\n",
              "1           2          144  ...  15510.0  2016-06-02 00:00:00\n",
              "2           3          144  ...  15510.0  2016-06-30 00:00:00\n",
              "3           4          144  ...   4000.0  2016-08-31 00:00:00\n",
              "4           5          150  ...   5000.0  2016-04-02 00:00:00\n",
              "\n",
              "[5 rows x 9 columns]"
            ]
          },
          "metadata": {
            "tags": []
          },
          "execution_count": 9
        }
      ]
    },
    {
      "cell_type": "code",
      "metadata": {
        "colab": {
          "base_uri": "https://localhost:8080/",
          "height": 195
        },
        "id": "eVLfKbIhDtG2",
        "outputId": "4fe39fff-d943-4931-e1e1-5978f124692b"
      },
      "source": [
        "df6.head()"
      ],
      "execution_count": 10,
      "outputs": [
        {
          "output_type": "execute_result",
          "data": {
            "text/html": [
              "<div>\n",
              "<style scoped>\n",
              "    .dataframe tbody tr th:only-of-type {\n",
              "        vertical-align: middle;\n",
              "    }\n",
              "\n",
              "    .dataframe tbody tr th {\n",
              "        vertical-align: top;\n",
              "    }\n",
              "\n",
              "    .dataframe thead th {\n",
              "        text-align: right;\n",
              "    }\n",
              "</style>\n",
              "<table border=\"1\" class=\"dataframe\">\n",
              "  <thead>\n",
              "    <tr style=\"text-align: right;\">\n",
              "      <th></th>\n",
              "      <th>Unnamed: 0</th>\n",
              "      <th>customer_id</th>\n",
              "      <th>monthly_customer_income</th>\n",
              "    </tr>\n",
              "  </thead>\n",
              "  <tbody>\n",
              "    <tr>\n",
              "      <th>0</th>\n",
              "      <td>1</td>\n",
              "      <td>144</td>\n",
              "      <td>32000.0</td>\n",
              "    </tr>\n",
              "    <tr>\n",
              "      <th>1</th>\n",
              "      <td>2</td>\n",
              "      <td>150</td>\n",
              "      <td>40000.0</td>\n",
              "    </tr>\n",
              "    <tr>\n",
              "      <th>2</th>\n",
              "      <td>3</td>\n",
              "      <td>155</td>\n",
              "      <td>38000.0</td>\n",
              "    </tr>\n",
              "    <tr>\n",
              "      <th>3</th>\n",
              "      <td>4</td>\n",
              "      <td>162</td>\n",
              "      <td>45000.0</td>\n",
              "    </tr>\n",
              "    <tr>\n",
              "      <th>4</th>\n",
              "      <td>5</td>\n",
              "      <td>163</td>\n",
              "      <td>33000.0</td>\n",
              "    </tr>\n",
              "  </tbody>\n",
              "</table>\n",
              "</div>"
            ],
            "text/plain": [
              "   Unnamed: 0  customer_id  monthly_customer_income\n",
              "0           1          144                  32000.0\n",
              "1           2          150                  40000.0\n",
              "2           3          155                  38000.0\n",
              "3           4          162                  45000.0\n",
              "4           5          163                  33000.0"
            ]
          },
          "metadata": {
            "tags": []
          },
          "execution_count": 10
        }
      ]
    },
    {
      "cell_type": "markdown",
      "metadata": {
        "id": "yxn_WtbsvhV6"
      },
      "source": [
        "##EDA\r\n",
        "\r\n",
        "I have shown for df1 that for single feature "
      ]
    },
    {
      "cell_type": "code",
      "metadata": {
        "colab": {
          "base_uri": "https://localhost:8080/",
          "height": 304
        },
        "id": "K5-v7qQ5Udiv",
        "outputId": "20ad9498-8e30-4d20-a64c-5a2e93011a9a"
      },
      "source": [
        "df1.describe()"
      ],
      "execution_count": 11,
      "outputs": [
        {
          "output_type": "execute_result",
          "data": {
            "text/html": [
              "<div>\n",
              "<style scoped>\n",
              "    .dataframe tbody tr th:only-of-type {\n",
              "        vertical-align: middle;\n",
              "    }\n",
              "\n",
              "    .dataframe tbody tr th {\n",
              "        vertical-align: top;\n",
              "    }\n",
              "\n",
              "    .dataframe thead th {\n",
              "        text-align: right;\n",
              "    }\n",
              "</style>\n",
              "<table border=\"1\" class=\"dataframe\">\n",
              "  <thead>\n",
              "    <tr style=\"text-align: right;\">\n",
              "      <th></th>\n",
              "      <th>Unnamed: 0</th>\n",
              "      <th>loan_installements_id</th>\n",
              "      <th>installment_number</th>\n",
              "      <th>loan_request_id</th>\n",
              "      <th>installment_amount</th>\n",
              "      <th>due_amount</th>\n",
              "      <th>penalty_accumulated</th>\n",
              "      <th>penalty_paid</th>\n",
              "      <th>updated_by</th>\n",
              "    </tr>\n",
              "  </thead>\n",
              "  <tbody>\n",
              "    <tr>\n",
              "      <th>count</th>\n",
              "      <td>13237.000000</td>\n",
              "      <td>13237.000000</td>\n",
              "      <td>13237.000000</td>\n",
              "      <td>13237.000000</td>\n",
              "      <td>13237.000000</td>\n",
              "      <td>13237.000000</td>\n",
              "      <td>13237.000000</td>\n",
              "      <td>13237.000000</td>\n",
              "      <td>13237.000000</td>\n",
              "    </tr>\n",
              "    <tr>\n",
              "      <th>mean</th>\n",
              "      <td>6619.000000</td>\n",
              "      <td>74128.051673</td>\n",
              "      <td>2.290247</td>\n",
              "      <td>58494.877616</td>\n",
              "      <td>14325.004306</td>\n",
              "      <td>1700.326282</td>\n",
              "      <td>666.101836</td>\n",
              "      <td>288.729168</td>\n",
              "      <td>2961.032636</td>\n",
              "    </tr>\n",
              "    <tr>\n",
              "      <th>std</th>\n",
              "      <td>3821.337091</td>\n",
              "      <td>63193.268739</td>\n",
              "      <td>1.207689</td>\n",
              "      <td>41790.587610</td>\n",
              "      <td>6949.767464</td>\n",
              "      <td>4736.820044</td>\n",
              "      <td>2604.847604</td>\n",
              "      <td>1094.138002</td>\n",
              "      <td>10094.794689</td>\n",
              "    </tr>\n",
              "    <tr>\n",
              "      <th>min</th>\n",
              "      <td>1.000000</td>\n",
              "      <td>1.000000</td>\n",
              "      <td>1.000000</td>\n",
              "      <td>3213.000000</td>\n",
              "      <td>2500.000000</td>\n",
              "      <td>0.000000</td>\n",
              "      <td>0.000000</td>\n",
              "      <td>0.000000</td>\n",
              "      <td>1.000000</td>\n",
              "    </tr>\n",
              "    <tr>\n",
              "      <th>25%</th>\n",
              "      <td>3310.000000</td>\n",
              "      <td>19466.000000</td>\n",
              "      <td>1.000000</td>\n",
              "      <td>21741.000000</td>\n",
              "      <td>10000.000000</td>\n",
              "      <td>0.000000</td>\n",
              "      <td>0.000000</td>\n",
              "      <td>0.000000</td>\n",
              "      <td>3.000000</td>\n",
              "    </tr>\n",
              "    <tr>\n",
              "      <th>50%</th>\n",
              "      <td>6619.000000</td>\n",
              "      <td>54708.000000</td>\n",
              "      <td>2.000000</td>\n",
              "      <td>49675.000000</td>\n",
              "      <td>11668.000000</td>\n",
              "      <td>0.000000</td>\n",
              "      <td>0.000000</td>\n",
              "      <td>0.000000</td>\n",
              "      <td>3.000000</td>\n",
              "    </tr>\n",
              "    <tr>\n",
              "      <th>75%</th>\n",
              "      <td>9928.000000</td>\n",
              "      <td>118657.000000</td>\n",
              "      <td>3.000000</td>\n",
              "      <td>85391.000000</td>\n",
              "      <td>16668.000000</td>\n",
              "      <td>0.000000</td>\n",
              "      <td>0.000000</td>\n",
              "      <td>0.000000</td>\n",
              "      <td>3.000000</td>\n",
              "    </tr>\n",
              "    <tr>\n",
              "      <th>max</th>\n",
              "      <td>13237.000000</td>\n",
              "      <td>219261.000000</td>\n",
              "      <td>6.000000</td>\n",
              "      <td>156861.000000</td>\n",
              "      <td>40000.000000</td>\n",
              "      <td>36300.000000</td>\n",
              "      <td>51358.000000</td>\n",
              "      <td>26920.000000</td>\n",
              "      <td>99999.000000</td>\n",
              "    </tr>\n",
              "  </tbody>\n",
              "</table>\n",
              "</div>"
            ],
            "text/plain": [
              "         Unnamed: 0  loan_installements_id  ...  penalty_paid    updated_by\n",
              "count  13237.000000           13237.000000  ...  13237.000000  13237.000000\n",
              "mean    6619.000000           74128.051673  ...    288.729168   2961.032636\n",
              "std     3821.337091           63193.268739  ...   1094.138002  10094.794689\n",
              "min        1.000000               1.000000  ...      0.000000      1.000000\n",
              "25%     3310.000000           19466.000000  ...      0.000000      3.000000\n",
              "50%     6619.000000           54708.000000  ...      0.000000      3.000000\n",
              "75%     9928.000000          118657.000000  ...      0.000000      3.000000\n",
              "max    13237.000000          219261.000000  ...  26920.000000  99999.000000\n",
              "\n",
              "[8 rows x 9 columns]"
            ]
          },
          "metadata": {
            "tags": []
          },
          "execution_count": 11
        }
      ]
    },
    {
      "cell_type": "code",
      "metadata": {
        "colab": {
          "base_uri": "https://localhost:8080/"
        },
        "id": "SGak5RX1Umny",
        "outputId": "b9aa9345-8beb-4088-dc9b-54db94038e90"
      },
      "source": [
        "df1.info()"
      ],
      "execution_count": 12,
      "outputs": [
        {
          "output_type": "stream",
          "text": [
            "<class 'pandas.core.frame.DataFrame'>\n",
            "RangeIndex: 13237 entries, 0 to 13236\n",
            "Data columns (total 16 columns):\n",
            " #   Column                    Non-Null Count  Dtype  \n",
            "---  ------                    --------------  -----  \n",
            " 0   Unnamed: 0                13237 non-null  int64  \n",
            " 1   loan_installements_id     13237 non-null  float64\n",
            " 2   installment_number        13237 non-null  int64  \n",
            " 3   loan_request_id           13237 non-null  int64  \n",
            " 4   installment_amount        13237 non-null  int64  \n",
            " 5   due_amount                13237 non-null  int64  \n",
            " 6   penalty_accumulated       13237 non-null  int64  \n",
            " 7   installment_due_date      13237 non-null  object \n",
            " 8   penalty_paid              13237 non-null  int64  \n",
            " 9   last_payment_date         11434 non-null  object \n",
            " 10  created_date.x            13237 non-null  object \n",
            " 11  updated_date              13237 non-null  object \n",
            " 12  updated_by                13237 non-null  int64  \n",
            " 13  extension_due_date        13237 non-null  object \n",
            " 14  penalty_calculation_date  2583 non-null   object \n",
            " 15  created_date.y            13237 non-null  object \n",
            "dtypes: float64(1), int64(8), object(7)\n",
            "memory usage: 1.6+ MB\n"
          ],
          "name": "stdout"
        }
      ]
    },
    {
      "cell_type": "code",
      "metadata": {
        "colab": {
          "base_uri": "https://localhost:8080/",
          "height": 284
        },
        "id": "JVgc2QflUzzg",
        "outputId": "2a87a7c7-60ab-4a67-f75d-2a2e79619d40"
      },
      "source": [
        "df2.describe()"
      ],
      "execution_count": 13,
      "outputs": [
        {
          "output_type": "execute_result",
          "data": {
            "text/html": [
              "<div>\n",
              "<style scoped>\n",
              "    .dataframe tbody tr th:only-of-type {\n",
              "        vertical-align: middle;\n",
              "    }\n",
              "\n",
              "    .dataframe tbody tr th {\n",
              "        vertical-align: top;\n",
              "    }\n",
              "\n",
              "    .dataframe thead th {\n",
              "        text-align: right;\n",
              "    }\n",
              "</style>\n",
              "<table border=\"1\" class=\"dataframe\">\n",
              "  <thead>\n",
              "    <tr style=\"text-align: right;\">\n",
              "      <th></th>\n",
              "      <th>Unnamed: 0</th>\n",
              "      <th>customer_id</th>\n",
              "      <th>company_id</th>\n",
              "    </tr>\n",
              "  </thead>\n",
              "  <tbody>\n",
              "    <tr>\n",
              "      <th>count</th>\n",
              "      <td>12854.000000</td>\n",
              "      <td>12854.00000</td>\n",
              "      <td>12854.000000</td>\n",
              "    </tr>\n",
              "    <tr>\n",
              "      <th>mean</th>\n",
              "      <td>6427.500000</td>\n",
              "      <td>28846.09499</td>\n",
              "      <td>21547.456356</td>\n",
              "    </tr>\n",
              "    <tr>\n",
              "      <th>std</th>\n",
              "      <td>3710.774515</td>\n",
              "      <td>8978.92276</td>\n",
              "      <td>21835.471917</td>\n",
              "    </tr>\n",
              "    <tr>\n",
              "      <th>min</th>\n",
              "      <td>1.000000</td>\n",
              "      <td>144.00000</td>\n",
              "      <td>4.000000</td>\n",
              "    </tr>\n",
              "    <tr>\n",
              "      <th>25%</th>\n",
              "      <td>3214.250000</td>\n",
              "      <td>24328.25000</td>\n",
              "      <td>15526.000000</td>\n",
              "    </tr>\n",
              "    <tr>\n",
              "      <th>50%</th>\n",
              "      <td>6427.500000</td>\n",
              "      <td>30109.50000</td>\n",
              "      <td>18850.000000</td>\n",
              "    </tr>\n",
              "    <tr>\n",
              "      <th>75%</th>\n",
              "      <td>9640.750000</td>\n",
              "      <td>35758.25000</td>\n",
              "      <td>21979.750000</td>\n",
              "    </tr>\n",
              "    <tr>\n",
              "      <th>max</th>\n",
              "      <td>12854.000000</td>\n",
              "      <td>41214.00000</td>\n",
              "      <td>352154.000000</td>\n",
              "    </tr>\n",
              "  </tbody>\n",
              "</table>\n",
              "</div>"
            ],
            "text/plain": [
              "         Unnamed: 0  customer_id     company_id\n",
              "count  12854.000000  12854.00000   12854.000000\n",
              "mean    6427.500000  28846.09499   21547.456356\n",
              "std     3710.774515   8978.92276   21835.471917\n",
              "min        1.000000    144.00000       4.000000\n",
              "25%     3214.250000  24328.25000   15526.000000\n",
              "50%     6427.500000  30109.50000   18850.000000\n",
              "75%     9640.750000  35758.25000   21979.750000\n",
              "max    12854.000000  41214.00000  352154.000000"
            ]
          },
          "metadata": {
            "tags": []
          },
          "execution_count": 13
        }
      ]
    },
    {
      "cell_type": "code",
      "metadata": {
        "colab": {
          "base_uri": "https://localhost:8080/"
        },
        "id": "qmggcwKSU_0d",
        "outputId": "6e89af42-ea76-4051-bc39-8427849f1523"
      },
      "source": [
        "# check unique values in dataset\r\n",
        "df1.apply(lambda x: len(x.unique()))"
      ],
      "execution_count": 14,
      "outputs": [
        {
          "output_type": "execute_result",
          "data": {
            "text/plain": [
              "Unnamed: 0                  13237\n",
              "loan_installements_id       13237\n",
              "installment_number              6\n",
              "loan_request_id              3998\n",
              "installment_amount            206\n",
              "due_amount                    238\n",
              "penalty_accumulated           857\n",
              "installment_due_date         1336\n",
              "penalty_paid                  584\n",
              "last_payment_date             631\n",
              "created_date.x               3997\n",
              "updated_date                 8863\n",
              "updated_by                    265\n",
              "extension_due_date           1336\n",
              "penalty_calculation_date     1811\n",
              "created_date.y               3995\n",
              "dtype: int64"
            ]
          },
          "metadata": {
            "tags": []
          },
          "execution_count": 14
        }
      ]
    },
    {
      "cell_type": "code",
      "metadata": {
        "colab": {
          "base_uri": "https://localhost:8080/"
        },
        "id": "xJuWyPnUVDp7",
        "outputId": "952159ff-80ed-4fec-b48e-596d6c763b00"
      },
      "source": [
        "# check for null values\r\n",
        "df1.isnull().sum()"
      ],
      "execution_count": 15,
      "outputs": [
        {
          "output_type": "execute_result",
          "data": {
            "text/plain": [
              "Unnamed: 0                      0\n",
              "loan_installements_id           0\n",
              "installment_number              0\n",
              "loan_request_id                 0\n",
              "installment_amount              0\n",
              "due_amount                      0\n",
              "penalty_accumulated             0\n",
              "installment_due_date            0\n",
              "penalty_paid                    0\n",
              "last_payment_date            1803\n",
              "created_date.x                  0\n",
              "updated_date                    0\n",
              "updated_by                      0\n",
              "extension_due_date              0\n",
              "penalty_calculation_date    10654\n",
              "created_date.y                  0\n",
              "dtype: int64"
            ]
          },
          "metadata": {
            "tags": []
          },
          "execution_count": 15
        }
      ]
    },
    {
      "cell_type": "code",
      "metadata": {
        "colab": {
          "base_uri": "https://localhost:8080/",
          "height": 413
        },
        "id": "XbbW_oJE-SNY",
        "outputId": "456be633-1e86-47a2-d074-e984f6a04abc"
      },
      "source": [
        "sns.heatmap(df1.isnull(),yticklabels=False,cbar=False,cmap='viridis')"
      ],
      "execution_count": 17,
      "outputs": [
        {
          "output_type": "execute_result",
          "data": {
            "text/plain": [
              "<matplotlib.axes._subplots.AxesSubplot at 0x7f49b9785940>"
            ]
          },
          "metadata": {
            "tags": []
          },
          "execution_count": 17
        },
        {
          "output_type": "display_data",
          "data": {
            "image/png": "[encoded data removed]",
            "text/plain": [
              "<Figure size 432x288 with 1 Axes>"
            ]
          },
          "metadata": {
            "tags": []
          }
        }
      ]
    },
    {
      "cell_type": "code",
      "metadata": {
        "colab": {
          "base_uri": "https://localhost:8080/",
          "height": 286
        },
        "id": "9Fb_6rF6EOlq",
        "outputId": "57c99d94-7901-40dd-8bf0-e7769a72afc8"
      },
      "source": [
        "sns.heatmap(df2.isnull(),yticklabels=False,cbar=False,cmap='viridis')"
      ],
      "execution_count": 19,
      "outputs": [
        {
          "output_type": "execute_result",
          "data": {
            "text/plain": [
              "<matplotlib.axes._subplots.AxesSubplot at 0x7f49b5272518>"
            ]
          },
          "metadata": {
            "tags": []
          },
          "execution_count": 19
        },
        {
          "output_type": "display_data",
          "data": {
            "image/png": "[encoded data removed]",
            "text/plain": [
              "<Figure size 432x288 with 1 Axes>"
            ]
          },
          "metadata": {
            "tags": []
          }
        }
      ]
    },
    {
      "cell_type": "code",
      "metadata": {
        "colab": {
          "base_uri": "https://localhost:8080/",
          "height": 387
        },
        "id": "mMWLVnVdERW4",
        "outputId": "b3fbe87a-d7e9-4333-bfd5-73abe08f1a8f"
      },
      "source": [
        "sns.heatmap(df3.isnull(),yticklabels=False,cbar=False,cmap='viridis')"
      ],
      "execution_count": 20,
      "outputs": [
        {
          "output_type": "execute_result",
          "data": {
            "text/plain": [
              "<matplotlib.axes._subplots.AxesSubplot at 0x7f49b4de6f98>"
            ]
          },
          "metadata": {
            "tags": []
          },
          "execution_count": 20
        },
        {
          "output_type": "display_data",
          "data": {
            "image/png": "[encoded data removed]",
            "text/plain": [
              "<Figure size 432x288 with 1 Axes>"
            ]
          },
          "metadata": {
            "tags": []
          }
        }
      ]
    },
    {
      "cell_type": "code",
      "metadata": {
        "colab": {
          "base_uri": "https://localhost:8080/",
          "height": 453
        },
        "id": "tkw8T__pERyx",
        "outputId": "5908045f-9e35-4458-eafb-c7d29732242a"
      },
      "source": [
        "sns.heatmap(df4.isnull(),yticklabels=False,cbar=False,cmap='viridis')"
      ],
      "execution_count": 21,
      "outputs": [
        {
          "output_type": "execute_result",
          "data": {
            "text/plain": [
              "<matplotlib.axes._subplots.AxesSubplot at 0x7f49b52721d0>"
            ]
          },
          "metadata": {
            "tags": []
          },
          "execution_count": 21
        },
        {
          "output_type": "display_data",
          "data": {
            "image/png": "[encoded data removed]",
            "text/plain": [
              "<Figure size 432x288 with 1 Axes>"
            ]
          },
          "metadata": {
            "tags": []
          }
        }
      ]
    },
    {
      "cell_type": "code",
      "metadata": {
        "colab": {
          "base_uri": "https://localhost:8080/",
          "height": 450
        },
        "id": "jaPV3VfDESH2",
        "outputId": "6c566204-7f28-4e5a-dc6b-31c4cccc08ce"
      },
      "source": [
        "sns.heatmap(df5.isnull(),yticklabels=False,cbar=False,cmap='viridis')"
      ],
      "execution_count": 22,
      "outputs": [
        {
          "output_type": "execute_result",
          "data": {
            "text/plain": [
              "<matplotlib.axes._subplots.AxesSubplot at 0x7f49b4d41128>"
            ]
          },
          "metadata": {
            "tags": []
          },
          "execution_count": 22
        },
        {
          "output_type": "display_data",
          "data": {
            "image/png": "[encoded data removed]",
            "text/plain": [
              "<Figure size 432x288 with 1 Axes>"
            ]
          },
          "metadata": {
            "tags": []
          }
        }
      ]
    },
    {
      "cell_type": "code",
      "metadata": {
        "colab": {
          "base_uri": "https://localhost:8080/",
          "height": 286
        },
        "id": "0QGce4NMESie",
        "outputId": "f9084344-f90b-4960-9c6d-925eca0d8117"
      },
      "source": [
        "sns.heatmap(df6.isnull(),yticklabels=False,cbar=False,cmap='viridis')"
      ],
      "execution_count": 23,
      "outputs": [
        {
          "output_type": "execute_result",
          "data": {
            "text/plain": [
              "<matplotlib.axes._subplots.AxesSubplot at 0x7f49b4d3aef0>"
            ]
          },
          "metadata": {
            "tags": []
          },
          "execution_count": 23
        },
        {
          "output_type": "display_data",
          "data": {
            "image/png": "[encoded data removed]",
            "text/plain": [
              "<Figure size 432x288 with 1 Axes>"
            ]
          },
          "metadata": {
            "tags": []
          }
        }
      ]
    },
    {
      "cell_type": "markdown",
      "metadata": {
        "id": "fjnXVaQo7qB4"
      },
      "source": [
        "here there are some values in plot with negative values , those are wrong values as -- amount=principal+penalty but for some data amount is greater than principal+penalty, so those data need to be discarded"
      ]
    },
    {
      "cell_type": "code",
      "metadata": {
        "colab": {
          "base_uri": "https://localhost:8080/",
          "height": 338
        },
        "id": "GSL3NiiCAxQG",
        "outputId": "2a29fade-691c-47af-8480-d7a89b92d03c"
      },
      "source": [
        "sns.distplot((df5['principle_amount_paid']+df5['penalty_paid']-df5['amount']).dropna(),kde=False,color='darkred',bins=40)"
      ],
      "execution_count": 24,
      "outputs": [
        {
          "output_type": "stream",
          "text": [
            "/usr/local/lib/python3.6/dist-packages/seaborn/distributions.py:2551: FutureWarning: `distplot` is a deprecated function and will be removed in a future version. Please adapt your code to use either `displot` (a figure-level function with similar flexibility) or `histplot` (an axes-level function for histograms).\n",
            "  warnings.warn(msg, FutureWarning)\n"
          ],
          "name": "stderr"
        },
        {
          "output_type": "execute_result",
          "data": {
            "text/plain": [
              "<matplotlib.axes._subplots.AxesSubplot at 0x7f49b4ca97f0>"
            ]
          },
          "metadata": {
            "tags": []
          },
          "execution_count": 24
        },
        {
          "output_type": "display_data",
          "data": {
            "image/png": "[encoded data removed]",
            "text/plain": [
              "<Figure size 432x288 with 1 Axes>"
            ]
          },
          "metadata": {
            "tags": []
          }
        }
      ]
    },
    {
      "cell_type": "code",
      "metadata": {
        "id": "f6xw4sD1M1Ys"
      },
      "source": [
        "data=pd.merge(df5, df4, on=['customer_id', 'loan_request_id'])"
      ],
      "execution_count": 25,
      "outputs": []
    },
    {
      "cell_type": "code",
      "metadata": {
        "colab": {
          "base_uri": "https://localhost:8080/"
        },
        "id": "DQaUPqnYPOCK",
        "outputId": "ec691827-e1d9-4613-e678-c464627af34b"
      },
      "source": [
        "data['updated_date']++data['due_date']"
      ],
      "execution_count": 26,
      "outputs": [
        {
          "output_type": "execute_result",
          "data": {
            "text/plain": [
              "0        2017-11-01 05:56:192016-05-04 15:48:21\n",
              "1        2017-11-01 05:56:192016-05-20 15:27:36\n",
              "2        2017-11-01 05:56:192016-06-18 12:00:00\n",
              "3        2016-09-02 11:36:262016-07-15 12:00:00\n",
              "4        2017-10-31 05:09:332016-04-08 20:38:55\n",
              "                          ...                  \n",
              "21074    2017-12-06 14:44:382017-12-07 12:00:00\n",
              "21075    2018-02-21 05:52:412018-03-06 12:00:00\n",
              "21076    2018-02-21 05:52:412018-03-06 12:00:00\n",
              "21077    2018-02-21 05:52:412018-03-06 12:00:00\n",
              "21078    2018-04-03 17:45:482018-06-04 12:00:00\n",
              "Length: 21079, dtype: object"
            ]
          },
          "metadata": {
            "tags": []
          },
          "execution_count": 26
        }
      ]
    }
  ]
}