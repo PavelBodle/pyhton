{
  "cells": [
    {
      "cell_type": "markdown",
      "metadata": {
        "id": "view-in-github",
        "colab_type": "text"
      },
      "source": [
        "<a href=\"https://colab.research.google.com/github/PavelBodle/pyhton/blob/main/Rough.ipynb\" target=\"_parent\"><img src=\"https://colab.research.google.com/assets/colab-badge.svg\" alt=\"Open In Colab\"/></a>"
      ]
    },
    {
      "cell_type": "code",
      "execution_count": null,
      "metadata": {
        "colab": {
          "base_uri": "https://localhost:8080/"
        },
        "id": "cJZs8sfJuIRk",
        "outputId": "d0d9489c-8970-4b16-e146-c73ee334417e"
      },
      "outputs": [
        {
          "output_type": "stream",
          "name": "stdout",
          "text": [
            "Sun:  150\n"
          ]
        }
      ],
      "source": [
        "x=50\n",
        "y=100\n",
        "z=x+y\n",
        "print(\"Sum: \", z)"
      ]
    },
    {
      "cell_type": "code",
      "source": [
        "print(8)\n",
        "print(13, end=\" \")\n",
        "print(21)"
      ],
      "metadata": {
        "id": "1C5ld7KvuNRE",
        "colab": {
          "base_uri": "https://localhost:8080/"
        },
        "outputId": "638f80f1-c6ab-4797-d5d8-3cd7f75eb56f"
      },
      "execution_count": 1,
      "outputs": [
        {
          "output_type": "stream",
          "name": "stdout",
          "text": [
            "8\n",
            "13 21\n"
          ]
        }
      ]
    },
    {
      "cell_type": "code",
      "source": [
        "\"\"\"Print Squares\n",
        "Write a program to output the squares (using multiplication) of numbers from 1 to 5 on separate lines.\n",
        "\n",
        "[Note: Please print in the same format as given below. There are single spaces between hyphen(-) and digits.]\n",
        "\n",
        "Output Format\n",
        "1 - 1\n",
        "2 - 4\n",
        "3 - 9\n",
        "4 - 16\n",
        "5 - 25\"\"\"\n"
      ],
      "metadata": {
        "collapsed": true,
        "id": "hLqyaTQUo9KR",
        "outputId": "04a7d0fd-0de1-42ec-c744-712dcf811c1f",
        "colab": {
          "base_uri": "https://localhost:8080/",
          "height": 53
        }
      },
      "execution_count": 6,
      "outputs": [
        {
          "output_type": "execute_result",
          "data": {
            "text/plain": [
              "'Print Squares\\nWrite a program to output the squares (using multiplication) of numbers from 1 to 5 on separate lines.\\n\\n[Note: Please print in the same format as given below. There are single spaces between hyphen(-) and digits.]\\n\\nOutput Format\\n1 - 1\\n2 - 4\\n3 - 9\\n4 - 16\\n5 - 25'"
            ],
            "application/vnd.google.colaboratory.intrinsic+json": {
              "type": "string"
            }
          },
          "metadata": {},
          "execution_count": 6
        }
      ]
    },
    {
      "cell_type": "code",
      "source": [
        "for i in range(1,6):\n",
        "    n = i**2\n",
        "    print(i, '-', n)"
      ],
      "metadata": {
        "id": "zx1LsEjOmZCI",
        "outputId": "57f56970-96cf-4e88-be46-ad7d10b8dcf4",
        "colab": {
          "base_uri": "https://localhost:8080/"
        }
      },
      "execution_count": 4,
      "outputs": [
        {
          "output_type": "stream",
          "name": "stdout",
          "text": [
            "1 - 1\n",
            "2 - 4\n",
            "3 - 9\n",
            "4 - 16\n",
            "5 - 25\n"
          ]
        }
      ]
    }
  ],
  "metadata": {
    "kernelspec": {
      "display_name": "Python 3",
      "language": "python",
      "name": "python3"
    },
    "language_info": {
      "codemirror_mode": {
        "name": "ipython",
        "version": 2
      },
      "file_extension": ".py",
      "mimetype": "text/x-python",
      "name": "python",
      "nbconvert_exporter": "python",
      "pygments_lexer": "ipython2",
      "version": "2.7.6"
    },
    "colab": {
      "provenance": [],
      "include_colab_link": true
    }
  },
  "nbformat": 4,
  "nbformat_minor": 0
}