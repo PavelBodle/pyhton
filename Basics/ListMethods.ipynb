{
 "cells": [
  {
   "cell_type": "markdown",
   "metadata": {
    "collapsed": true,
    "pycharm": {
     "name": "#%% md\n"
    }
   },
   "source": [
    "## 9.7.1. List Methods\n",
    "The dot operator can also be used to access built-in methods of list objects. append is a list method which adds the argument passed to it to the end of the list. Continuing with this example, we show several other list methods. Many of them are easy to understand."
   ]
  },
  {
   "cell_type": "code",
   "execution_count": 2,
   "outputs": [
    {
     "name": "stdout",
     "output_type": "stream",
     "text": [
      "[5, 27, 3, 12]\n",
      "[5, 12, 27, 3, 12]\n",
      "2\n",
      "3\n",
      "1\n",
      "[12, 3, 27, 12, 5]\n",
      "[3, 5, 12, 12, 27]\n",
      "[3, 12, 12, 27]\n",
      "27\n",
      "[3, 12, 12]\n"
     ]
    }
   ],
   "source": [
    "mylist = []\n",
    "mylist.append(5)\n",
    "mylist.append(27)\n",
    "mylist.append(3)\n",
    "mylist.append(12)\n",
    "print(mylist)\n",
    "\n",
    "mylist.insert(1, 12)\n",
    "print(mylist)\n",
    "print(mylist.count(12))\n",
    "\n",
    "print(mylist.index(3))\n",
    "print(mylist.count(5))\n",
    "\n",
    "mylist.reverse()\n",
    "print(mylist)\n",
    "\n",
    "mylist.sort()\n",
    "print(mylist)\n",
    "\n",
    "mylist.remove(5)   #remove value not index & in del() it removes index value\n",
    "print(mylist)\n",
    "\n",
    "lastitem = mylist.pop()\n",
    "print(lastitem)\n",
    "print(mylist)\n"
   ],
   "metadata": {
    "collapsed": false,
    "pycharm": {
     "name": "#%%\n"
    }
   }
  },
  {
   "cell_type": "markdown",
   "source": [
    "It is important to remember that methods like append, sort, and reverse all return None. They change the list; they don’t produce a new list. So, while we did reassignment to increment a number, as in x = x + 1, doing the analogous thing with these operations will lose the entire list contents (see line 8 below)."
   ],
   "metadata": {
    "collapsed": false
   }
  },
  {
   "cell_type": "code",
   "execution_count": 3,
   "outputs": [
    {
     "name": "stdout",
     "output_type": "stream",
     "text": [
      "[5, 27, 3, 12]\n",
      "None\n"
     ]
    }
   ],
   "source": [
    "mylist = []\n",
    "mylist.append(5)\n",
    "mylist.append(27)\n",
    "mylist.append(3)\n",
    "mylist.append(12)\n",
    "print(mylist)\n",
    "\n",
    "mylist = mylist.sort()   #probably an error\n",
    "print(mylist)\n",
    "\n"
   ],
   "metadata": {
    "collapsed": false,
    "pycharm": {
     "name": "#%%\n"
    }
   }
  }
 ],
 "metadata": {
  "kernelspec": {
   "display_name": "Python 3",
   "language": "python",
   "name": "python3"
  },
  "language_info": {
   "codemirror_mode": {
    "name": "ipython",
    "version": 2
   },
   "file_extension": ".py",
   "mimetype": "text/x-python",
   "name": "python",
   "nbconvert_exporter": "python",
   "pygments_lexer": "ipython2",
   "version": "2.7.6"
  }
 },
 "nbformat": 4,
 "nbformat_minor": 0
}