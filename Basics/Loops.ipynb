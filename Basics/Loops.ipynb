{
 "cells": [
  {
   "cell_type": "markdown",
   "metadata": {
    "collapsed": true,
    "pycharm": {
     "name": "#%% md\n"
    }
   },
   "source": [
    "## Lists and for loops\n",
    "\n"
   ]
  },
  {
   "cell_type": "code",
   "execution_count": 1,
   "outputs": [
    {
     "name": "stdout",
     "output_type": "stream",
     "text": [
      "apple\n",
      "orange\n",
      "banana\n",
      "cherry\n"
     ]
    }
   ],
   "source": [
    "fruits = [\"apple\", \"orange\", \"banana\", \"cherry\"]\n",
    "\n",
    "for afruit in fruits:     # by item\n",
    "    print(afruit)"
   ],
   "metadata": {
    "collapsed": false,
    "pycharm": {
     "name": "#%%\n"
    }
   }
  },
  {
   "cell_type": "markdown",
   "source": [
    "### sing the range Function to Generate a Sequence to Iterate Over\n",
    "\n"
   ],
   "metadata": {
    "collapsed": false,
    "pycharm": {
     "name": "#%% md\n"
    }
   }
  },
  {
   "cell_type": "code",
   "execution_count": 2,
   "outputs": [
    {
     "name": "stdout",
     "output_type": "stream",
     "text": [
      "This will execute first\n",
      "This line will execute three times...........\n",
      "This line will also execute three times\n",
      "This line will execute three times...........\n",
      "This line will also execute three times\n",
      "This line will execute three times...........\n",
      "This line will also execute three times\n",
      "Now we are outside of the for loop!\n"
     ]
    }
   ],
   "source": [
    "print(\"This will execute first\")\n",
    "\n",
    "for _ in range(3):\n",
    "    print(\"This line will execute three times...........\")\n",
    "    print(\"This line will also execute three times\")\n",
    "\n",
    "print(\"Now we are outside of the for loop!\")\n"
   ],
   "metadata": {
    "collapsed": false,
    "pycharm": {
     "name": "#%%\n"
    }
   }
  },
  {
   "cell_type": "markdown",
   "source": [
    "7.6. The Accumulator Pattern\n",
    "One common programming “pattern” is to traverse a sequence, accumulating a value as we go, such as the sum-so-far or the maximum-so-far. That way, at the end of the traversal we have accumulated a single value, such as the sum total of all the items or the largest item.\n",
    "\n",
    "The anatomy of the accumulation pattern includes:\n",
    "initializing an “accumulator” variable to an initial value (such as 0 if accumulating a sum)\n",
    "\n",
    "iterating (e.g., traversing the items in a sequence)\n",
    "\n",
    "updating the accumulator variable on each iteration (i.e., when processing each item in the sequence)\n"
   ],
   "metadata": {
    "collapsed": false
   }
  },
  {
   "cell_type": "code",
   "execution_count": 6,
   "outputs": [
    {
     "name": "stdout",
     "output_type": "stream",
     "text": [
      "55\n",
      "--------------range --------------------\n",
      "range(5): \n",
      "0\n",
      "1\n",
      "2\n",
      "3\n",
      "4\n",
      "range(0,5): \n",
      "0\n",
      "1\n",
      "2\n",
      "3\n",
      "4\n",
      "[0, 1, 2, 3, 4]\n",
      "[0, 1, 2, 3, 4]\n",
      "range(0, 5)\n"
     ]
    }
   ],
   "source": [
    "nums = [1, 2, 3, 4, 5, 6, 7, 8, 9, 10]\n",
    "accum = 0\n",
    "for w in nums:\n",
    "    accum = accum + w\n",
    "print(accum)\n",
    "\n",
    "print('--------------range --------------------')\n",
    "print(\"range(5): \")\n",
    "for i in range(5):\n",
    "    print(i)\n",
    "\n",
    "print(\"range(0,5): \")\n",
    "for i in range(0, 5):\n",
    "    print(i)\n",
    "\n",
    "# Notice the casting of `range` to the `list`\n",
    "print(list(range(5)))\n",
    "print(list(range(0,5)))\n",
    "\n",
    "# Note: `range` function is already casted as `list` in the textbook\n",
    "print(range(5))"
   ],
   "metadata": {
    "collapsed": false,
    "pycharm": {
     "name": "#%%\n"
    }
   }
  },
  {
   "cell_type": "markdown",
   "source": [
    "### 7.7. Traversal and the for Loop: By Index"
   ],
   "metadata": {
    "collapsed": false
   }
  },
  {
   "cell_type": "code",
   "execution_count": 8,
   "outputs": [
    {
     "name": "stdout",
     "output_type": "stream",
     "text": [
      "0 apple\n",
      "1 pear\n",
      "2 apricot\n",
      "3 cherry\n",
      "4 peach\n",
      "0 apple\n",
      "1 pear\n",
      "2 apricot\n",
      "3 cherry\n",
      "4 peach\n"
     ]
    }
   ],
   "source": [
    "fruits = ['apple', 'pear', 'apricot', 'cherry', 'peach']\n",
    "for n in range(5):\n",
    "    print(n, fruits[n])\n",
    "#----------------------------------------------------------\n",
    "fruits = ['apple', 'pear', 'apricot', 'cherry', 'peach']\n",
    "for n in range(len(fruits)):\n",
    "    print(n, fruits[n])"
   ],
   "metadata": {
    "collapsed": false,
    "pycharm": {
     "name": "#%%\n"
    }
   }
  },
  {
   "cell_type": "markdown",
   "source": [
    "##  Boolean\n",
    " A common error is to use a single equal sign (=) instead of a double equal sign (==). Remember that = is an assignment operator and == is a comparison operator. Also, there is no such thing as =< or =>\n",
    "\n",
    "x == y\n",
    "\n",
    "x != y               # x is not equal to y\n",
    "\n",
    "x > y                # x is greater than y\n",
    "\n",
    "x < y                # x is less than y\n",
    "\n",
    "x >= y               # x is greater than or equal to y\n",
    "\n",
    "x <= y               # x is less than or equal to y\n",
    "\n",
    "There are three logical operators: and, or, and not. The semantics (meaning) of these operators is similar to their meaning in English. For example, x > 0 and x < 10 is true only if x is greater than 0 and at the same time, x is less than 10. How would you describe this in words? You would say that x is between 0 and 10, not including the endpoints.\n",
    "\n",
    "n % 2 == 0 or n % 3 == 0 is true if either of the conditions is true, that is, if the number is divisible by 2 or divisible by 3. In this case, one, or the other, or both of the parts has to be true for the result to be true.\n",
    "\n",
    "Finally, the not operator negates a boolean expression, so not  x > y is true if x > y is false, that is, if x is less than or equal to y."
   ],
   "metadata": {
    "collapsed": false
   }
  },
  {
   "cell_type": "code",
   "execution_count": 9,
   "outputs": [
    {
     "name": "stdout",
     "output_type": "stream",
     "text": [
      "True\n",
      "False\n"
     ]
    }
   ],
   "source": [
    "x = 5\n",
    "print(x>0 and x<10)\n",
    "\n",
    "n = 25\n",
    "print(n%2 == 0 or n%3 == 0)\n",
    "\n"
   ],
   "metadata": {
    "collapsed": false,
    "pycharm": {
     "name": "#%%\n"
    }
   }
  },
  {
   "cell_type": "markdown",
   "source": [
    "## 8.4. The in and not in operators"
   ],
   "metadata": {
    "collapsed": false
   }
  },
  {
   "cell_type": "code",
   "execution_count": 10,
   "outputs": [
    {
     "name": "stdout",
     "output_type": "stream",
     "text": [
      "True\n",
      "True\n",
      "True\n",
      "True\n",
      "True\n",
      "False\n",
      "True\n",
      "False\n",
      "True\n"
     ]
    }
   ],
   "source": [
    "print('a' in 'a')\n",
    "print('apple' in 'apple')\n",
    "print('' in 'a')\n",
    "print('' in 'apple')\n",
    "\n",
    "print('p' in 'apple')\n",
    "print('i' in 'apple')\n",
    "print('ap' in 'apple')\n",
    "print('pa' in 'apple')\n",
    "\n",
    "print('x' not in 'apple')\n"
   ],
   "metadata": {
    "collapsed": false,
    "pycharm": {
     "name": "#%%\n"
    }
   }
  },
  {
   "cell_type": "code",
   "execution_count": 11,
   "outputs": [
    {
     "name": "stdout",
     "output_type": "stream",
     "text": [
      "True\n",
      "True\n",
      "False\n",
      "False\n"
     ]
    }
   ],
   "source": [
    "print(\"a\" in [\"a\", \"b\", \"c\", \"d\"])\n",
    "print(9 in [3, 2, 9, 10, 9.0])\n",
    "print('wow' not in ['gee wiz', 'gosh golly', 'wow', 'amazing'])\n",
    "print(\"a\" in [\"apple\", \"absolutely\", \"application\", \"nope\"])"
   ],
   "metadata": {
    "collapsed": false,
    "pycharm": {
     "name": "#%%\n"
    }
   }
  },
  {
   "cell_type": "markdown",
   "source": [
    "## 6.17. Operator precedence\n",
    "\n",
    "https://docs.python.org/3/reference/expressions.html#expression-lists"
   ],
   "metadata": {
    "collapsed": false
   }
  },
  {
   "cell_type": "markdown",
   "source": [
    "## Conditional Execution: Binary Selection\n",
    "Even & odd\n",
    "\n",
    "The syntax for an if statement looks like this:\n",
    "\n",
    "if BOOLEAN EXPRESSION:\n",
    "    STATEMENTS_1        # executed if condition evaluates to True\n",
    "else:\n",
    "    STATEMENTS_2        # executed if condition evaluates to False"
   ],
   "metadata": {
    "collapsed": false
   }
  },
  {
   "cell_type": "code",
   "source": [
    "x = 15\n",
    "\n",
    "if x % 2 == 0:\n",
    "    print(x, \"is even\")\n",
    "else:\n",
    "    print(x, \"is odd\")"
   ],
   "metadata": {
    "collapsed": false,
    "pycharm": {
     "name": "#%%\n"
    }
   },
   "execution_count": null,
   "outputs": []
  },
  {
   "cell_type": "markdown",
   "source": [
    "#### Write code to create a list called chars which should contain the characters from str1\n",
    "\n",
    "From string make a list"
   ],
   "metadata": {
    "collapsed": false,
    "pycharm": {
     "name": "#%% md\n"
    }
   }
  },
  {
   "cell_type": "code",
   "execution_count": 5,
   "outputs": [
    {
     "name": "stdout",
     "output_type": "stream",
     "text": [
      "['I']\n",
      "['I', ' ']\n",
      "['I', ' ', 'l']\n",
      "['I', ' ', 'l', 'o']\n",
      "['I', ' ', 'l', 'o', 'v']\n",
      "['I', ' ', 'l', 'o', 'v', 'e']\n",
      "['I', ' ', 'l', 'o', 'v', 'e', ' ']\n",
      "['I', ' ', 'l', 'o', 'v', 'e', ' ', 'p']\n",
      "['I', ' ', 'l', 'o', 'v', 'e', ' ', 'p', 'y']\n",
      "['I', ' ', 'l', 'o', 'v', 'e', ' ', 'p', 'y', 't']\n",
      "['I', ' ', 'l', 'o', 'v', 'e', ' ', 'p', 'y', 't', 'h']\n",
      "['I', ' ', 'l', 'o', 'v', 'e', ' ', 'p', 'y', 't', 'h', 'o']\n",
      "['I', ' ', 'l', 'o', 'v', 'e', ' ', 'p', 'y', 't', 'h', 'o', 'n']\n"
     ]
    }
   ],
   "source": [
    "str1 = \"I love python\"\n",
    "\n",
    "chars = []\n",
    "for i in str1:\n",
    "    chars.append(i)\n",
    "    print(chars)\n",
    "print(chars)"
   ],
   "metadata": {
    "collapsed": false,
    "pycharm": {
     "name": "#%%\n"
    }
   }
  }
 ],
 "metadata": {
  "kernelspec": {
   "display_name": "Python 3",
   "language": "python",
   "name": "python3"
  },
  "language_info": {
   "codemirror_mode": {
    "name": "ipython",
    "version": 2
   },
   "file_extension": ".py",
   "mimetype": "text/x-python",
   "name": "python",
   "nbconvert_exporter": "python",
   "pygments_lexer": "ipython2",
   "version": "2.7.6"
  }
 },
 "nbformat": 4,
 "nbformat_minor": 0
}