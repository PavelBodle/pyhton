{
 "cells": [
  {
   "cell_type": "markdown",
   "metadata": {
    "collapsed": true,
    "pycharm": {
     "name": "#%% md\n"
    }
   },
   "source": [
    "## Lists and for loops\n",
    "\n"
   ]
  },
  {
   "cell_type": "code",
   "execution_count": 1,
   "outputs": [
    {
     "name": "stdout",
     "output_type": "stream",
     "text": [
      "apple\n",
      "orange\n",
      "banana\n",
      "cherry\n"
     ]
    }
   ],
   "source": [
    "fruits = [\"apple\", \"orange\", \"banana\", \"cherry\"]\n",
    "\n",
    "for afruit in fruits:     # by item\n",
    "    print(afruit)"
   ],
   "metadata": {
    "collapsed": false,
    "pycharm": {
     "name": "#%%\n"
    }
   }
  },
  {
   "cell_type": "markdown",
   "source": [
    "### sing the range Function to Generate a Sequence to Iterate Over\n",
    "\n"
   ],
   "metadata": {
    "collapsed": false,
    "pycharm": {
     "name": "#%% md\n"
    }
   }
  },
  {
   "cell_type": "code",
   "execution_count": 2,
   "outputs": [
    {
     "name": "stdout",
     "output_type": "stream",
     "text": [
      "This will execute first\n",
      "This line will execute three times...........\n",
      "This line will also execute three times\n",
      "This line will execute three times...........\n",
      "This line will also execute three times\n",
      "This line will execute three times...........\n",
      "This line will also execute three times\n",
      "Now we are outside of the for loop!\n"
     ]
    }
   ],
   "source": [
    "print(\"This will execute first\")\n",
    "\n",
    "for _ in range(3):\n",
    "    print(\"This line will execute three times...........\")\n",
    "    print(\"This line will also execute three times\")\n",
    "\n",
    "print(\"Now we are outside of the for loop!\")\n"
   ],
   "metadata": {
    "collapsed": false,
    "pycharm": {
     "name": "#%%\n"
    }
   }
  },
  {
   "cell_type": "markdown",
   "source": [
    "7.6. The Accumulator Pattern\n",
    "One common programming “pattern” is to traverse a sequence, accumulating a value as we go, such as the sum-so-far or the maximum-so-far. That way, at the end of the traversal we have accumulated a single value, such as the sum total of all the items or the largest item.\n",
    "\n",
    "The anatomy of the accumulation pattern includes:\n",
    "initializing an “accumulator” variable to an initial value (such as 0 if accumulating a sum)\n",
    "\n",
    "iterating (e.g., traversing the items in a sequence)\n",
    "\n",
    "updating the accumulator variable on each iteration (i.e., when processing each item in the sequence)\n"
   ],
   "metadata": {
    "collapsed": false
   }
  },
  {
   "cell_type": "code",
   "execution_count": 6,
   "outputs": [
    {
     "name": "stdout",
     "output_type": "stream",
     "text": [
      "55\n",
      "--------------range --------------------\n",
      "range(5): \n",
      "0\n",
      "1\n",
      "2\n",
      "3\n",
      "4\n",
      "range(0,5): \n",
      "0\n",
      "1\n",
      "2\n",
      "3\n",
      "4\n",
      "[0, 1, 2, 3, 4]\n",
      "[0, 1, 2, 3, 4]\n",
      "range(0, 5)\n"
     ]
    }
   ],
   "source": [
    "nums = [1, 2, 3, 4, 5, 6, 7, 8, 9, 10]\n",
    "accum = 0\n",
    "for w in nums:\n",
    "    accum = accum + w\n",
    "print(accum)\n",
    "\n",
    "print('--------------range --------------------')\n",
    "print(\"range(5): \")\n",
    "for i in range(5):\n",
    "    print(i)\n",
    "\n",
    "print(\"range(0,5): \")\n",
    "for i in range(0, 5):\n",
    "    print(i)\n",
    "\n",
    "# Notice the casting of `range` to the `list`\n",
    "print(list(range(5)))\n",
    "print(list(range(0,5)))\n",
    "\n",
    "# Note: `range` function is already casted as `list` in the textbook\n",
    "print(range(5))"
   ],
   "metadata": {
    "collapsed": false,
    "pycharm": {
     "name": "#%%\n"
    }
   }
  },
  {
   "cell_type": "markdown",
   "source": [
    "### 7.7. Traversal and the for Loop: By Index"
   ],
   "metadata": {
    "collapsed": false
   }
  },
  {
   "cell_type": "code",
   "execution_count": 8,
   "outputs": [
    {
     "name": "stdout",
     "output_type": "stream",
     "text": [
      "0 apple\n",
      "1 pear\n",
      "2 apricot\n",
      "3 cherry\n",
      "4 peach\n",
      "0 apple\n",
      "1 pear\n",
      "2 apricot\n",
      "3 cherry\n",
      "4 peach\n"
     ]
    }
   ],
   "source": [
    "fruits = ['apple', 'pear', 'apricot', 'cherry', 'peach']\n",
    "for n in range(5):\n",
    "    print(n, fruits[n])\n",
    "#----------------------------------------------------------\n",
    "fruits = ['apple', 'pear', 'apricot', 'cherry', 'peach']\n",
    "for n in range(len(fruits)):\n",
    "    print(n, fruits[n])\n"
   ],
   "metadata": {
    "collapsed": false,
    "pycharm": {
     "name": "#%%\n"
    }
   }
  }
 ],
 "metadata": {
  "kernelspec": {
   "display_name": "Python 3",
   "language": "python",
   "name": "python3"
  },
  "language_info": {
   "codemirror_mode": {
    "name": "ipython",
    "version": 2
   },
   "file_extension": ".py",
   "mimetype": "text/x-python",
   "name": "python",
   "nbconvert_exporter": "python",
   "pygments_lexer": "ipython2",
   "version": "2.7.6"
  }
 },
 "nbformat": 4,
 "nbformat_minor": 0
}