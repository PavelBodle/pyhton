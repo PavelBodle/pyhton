{
 "cells": [
  {
   "cell_type": "markdown",
   "source": [
    "### The random module\n"
   ],
   "metadata": {
    "collapsed": false
   }
  },
  {
   "cell_type": "code",
   "execution_count": 2,
   "outputs": [
    {
     "name": "stdout",
     "output_type": "stream",
     "text": [
      "0.5123199353493759\n",
      "1\n"
     ]
    }
   ],
   "source": [
    "import random\n",
    "\n",
    "prob = random.random()   # return a float\n",
    "print(prob)\n",
    "\n",
    "diceThrow = random.randrange(1,7)       # return an int, one of 1,2,3,4,5,6\n",
    "print(diceThrow)"
   ],
   "metadata": {
    "collapsed": false,
    "pycharm": {
     "name": "#%%\n"
    }
   }
  },
  {
   "cell_type": "markdown",
   "source": [
    "The `random()` function returns a floating point number in the range [0.0, 1.0) — the square bracket means “closed interval on the left” and the round parenthesis means “open interval on the right”. In other words, 0.0 is possible, but all returned numbers will be strictly less than 1.0\n",
    "\n",
    "`randrange(10)` will give you numbers from 0-9\n",
    "\n",
    "*It is important to note that random number generators are based on a deterministic algorithm — repeatable and predictable. So they’re called pseudo-random generators — they are not genuinely random.*"
   ],
   "metadata": {
    "collapsed": false
   }
  },
  {
   "cell_type": "markdown",
   "source": [
    "## Glossary\n",
    "deterministic\n",
    "A process that is repeatable and predictable.\n",
    "\n",
    "documentation\n",
    "A place where you can go to get detailed information about aspects of your programming language.\n",
    "\n",
    "module\n",
    "A file containing Python definitions and statements intended for use in other Python programs. The contents of a module are made available to the other program by using the import statement.\n",
    "\n",
    "namespace\n",
    "A naming system for making names unique, to avoid duplication and confusion. Within a namespace, no two names can be the same.\n",
    "\n",
    "pseudo-random number\n",
    "A number that is not genuinely random but is instead created algorithmically.\n",
    "\n",
    "random number\n",
    "A number that is generated in such a way as to exhibit statistical randomness.\n",
    "\n",
    "random number generator\n",
    "A function that will provide you with random numbers, usually between 0 and 1.\n",
    "\n",
    "standard library\n",
    "A collection of modules that are part of the normal installation of Python."
   ],
   "metadata": {
    "collapsed": false
   }
  },
  {
   "cell_type": "markdown",
   "source": [
    "## Runtime Errors\n",
    "\n",
    "The second type of error is a runtime error, so called because the error does not appear until you run the program. These errors are also called exceptions because they usually indicate that something exceptional (and bad) has happened.\n",
    "\n",
    "Runtime errors are rare in the simple programs you will see in the first few chapters, so it might be a while before you encounter one."
   ],
   "metadata": {
    "collapsed": false
   }
  }
 ],
 "metadata": {
  "kernelspec": {
   "name": "pycharm-e54144e7",
   "language": "python",
   "display_name": "PyCharm (Python_Github)"
  },
  "language_info": {
   "codemirror_mode": {
    "name": "ipython",
    "version": 2
   },
   "file_extension": ".py",
   "mimetype": "text/x-python",
   "name": "python",
   "nbconvert_exporter": "python",
   "pygments_lexer": "ipython2",
   "version": "2.7.6"
  }
 },
 "nbformat": 4,
 "nbformat_minor": 0
}